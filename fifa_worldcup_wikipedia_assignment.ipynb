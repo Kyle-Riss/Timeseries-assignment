{
 "cells": [
  {
   "cell_type": "code",
   "execution_count": 1,
   "id": "a56440dc",
   "metadata": {},
   "outputs": [
    {
     "name": "stdout",
     "output_type": "stream",
     "text": [
      "총 40개의 테이블이 추출됨\n"
     ]
    }
   ],
   "source": [
    "import pandas as pd\n",
    "\n",
    "url = \"https://en.wikipedia.org/wiki/FIFA_World_Cup\"\n",
    "tables = pd.read_html(url)\n",
    "print(f\"총 {len(tables)}개의 테이블이 추출됨\")"
   ]
  },
  {
   "cell_type": "code",
   "execution_count": 3,
   "id": "16b064bd",
   "metadata": {},
   "outputs": [
    {
     "name": "stdout",
     "output_type": "stream",
     "text": [
      "\n",
      "[테이블 0]\n"
     ]
    },
    {
     "data": {
      "text/html": [
       "<div>\n",
       "<style scoped>\n",
       "    .dataframe tbody tr th:only-of-type {\n",
       "        vertical-align: middle;\n",
       "    }\n",
       "\n",
       "    .dataframe tbody tr th {\n",
       "        vertical-align: top;\n",
       "    }\n",
       "\n",
       "    .dataframe thead th {\n",
       "        text-align: right;\n",
       "    }\n",
       "</style>\n",
       "<table border=\"1\" class=\"dataframe\">\n",
       "  <thead>\n",
       "    <tr style=\"text-align: right;\">\n",
       "      <th></th>\n",
       "      <th>0</th>\n",
       "      <th>1</th>\n",
       "    </tr>\n",
       "  </thead>\n",
       "  <tbody>\n",
       "    <tr>\n",
       "      <th>0</th>\n",
       "      <td>NaN</td>\n",
       "      <td>NaN</td>\n",
       "    </tr>\n",
       "    <tr>\n",
       "      <th>1</th>\n",
       "      <td>Organising body</td>\n",
       "      <td>FIFA</td>\n",
       "    </tr>\n",
       "    <tr>\n",
       "      <th>2</th>\n",
       "      <td>Founded</td>\n",
       "      <td>1930; 95 years ago</td>\n",
       "    </tr>\n",
       "    <tr>\n",
       "      <th>3</th>\n",
       "      <td>Region</td>\n",
       "      <td>International</td>\n",
       "    </tr>\n",
       "    <tr>\n",
       "      <th>4</th>\n",
       "      <td>Number of teams</td>\n",
       "      <td>32 (48 from 2026 onwards)</td>\n",
       "    </tr>\n",
       "  </tbody>\n",
       "</table>\n",
       "</div>"
      ],
      "text/plain": [
       "                 0                          1\n",
       "0              NaN                        NaN\n",
       "1  Organising body                       FIFA\n",
       "2          Founded         1930; 95 years ago\n",
       "3           Region              International\n",
       "4  Number of teams  32 (48 from 2026 onwards)"
      ]
     },
     "metadata": {},
     "output_type": "display_data"
    },
    {
     "name": "stdout",
     "output_type": "stream",
     "text": [
      "\n",
      "[테이블 1]\n"
     ]
    },
    {
     "data": {
      "text/html": [
       "<div>\n",
       "<style scoped>\n",
       "    .dataframe tbody tr th:only-of-type {\n",
       "        vertical-align: middle;\n",
       "    }\n",
       "\n",
       "    .dataframe tbody tr th {\n",
       "        vertical-align: top;\n",
       "    }\n",
       "\n",
       "    .dataframe thead th {\n",
       "        text-align: right;\n",
       "    }\n",
       "</style>\n",
       "<table border=\"1\" class=\"dataframe\">\n",
       "  <thead>\n",
       "    <tr style=\"text-align: right;\">\n",
       "      <th></th>\n",
       "      <th>0</th>\n",
       "    </tr>\n",
       "  </thead>\n",
       "  <tbody>\n",
       "    <tr>\n",
       "      <th>0</th>\n",
       "      <td>Argentina, the current champions</td>\n",
       "    </tr>\n",
       "    <tr>\n",
       "      <th>1</th>\n",
       "      <td>Tournaments</td>\n",
       "    </tr>\n",
       "    <tr>\n",
       "      <th>2</th>\n",
       "      <td>1930 1934 1938 1950 1954 1958 1962 1966 1970 1...</td>\n",
       "    </tr>\n",
       "  </tbody>\n",
       "</table>\n",
       "</div>"
      ],
      "text/plain": [
       "                                                   0\n",
       "0                   Argentina, the current champions\n",
       "1                                        Tournaments\n",
       "2  1930 1934 1938 1950 1954 1958 1962 1966 1970 1..."
      ]
     },
     "metadata": {},
     "output_type": "display_data"
    },
    {
     "name": "stdout",
     "output_type": "stream",
     "text": [
      "\n",
      "[테이블 2]\n"
     ]
    },
    {
     "data": {
      "text/html": [
       "<div>\n",
       "<style scoped>\n",
       "    .dataframe tbody tr th:only-of-type {\n",
       "        vertical-align: middle;\n",
       "    }\n",
       "\n",
       "    .dataframe tbody tr th {\n",
       "        vertical-align: top;\n",
       "    }\n",
       "\n",
       "    .dataframe thead th {\n",
       "        text-align: right;\n",
       "    }\n",
       "</style>\n",
       "<table border=\"1\" class=\"dataframe\">\n",
       "  <thead>\n",
       "    <tr style=\"text-align: right;\">\n",
       "      <th></th>\n",
       "      <th>Confederation</th>\n",
       "      <th>Times hosted</th>\n",
       "      <th>Hosts</th>\n",
       "      <th>Upcoming hosts</th>\n",
       "    </tr>\n",
       "  </thead>\n",
       "  <tbody>\n",
       "    <tr>\n",
       "      <th>0</th>\n",
       "      <td>UEFA (Europe)</td>\n",
       "      <td>11</td>\n",
       "      <td>1934, Italy; 1938, France, 1954, Switzerland; ...</td>\n",
       "      <td>2030, Spain &amp; Portugal</td>\n",
       "    </tr>\n",
       "    <tr>\n",
       "      <th>1</th>\n",
       "      <td>CONMEBOL (South America)</td>\n",
       "      <td>5</td>\n",
       "      <td>1930, Uruguay; 1950, Brazil; 1962, Chile; 1978...</td>\n",
       "      <td>NaN</td>\n",
       "    </tr>\n",
       "    <tr>\n",
       "      <th>2</th>\n",
       "      <td>CONCACAF (North and Central America and Caribb...</td>\n",
       "      <td>3</td>\n",
       "      <td>1970, Mexico; 1986, Mexico; 1994, United States</td>\n",
       "      <td>2026, Canada, Mexico &amp; United States</td>\n",
       "    </tr>\n",
       "    <tr>\n",
       "      <th>3</th>\n",
       "      <td>AFC (Asia)</td>\n",
       "      <td>2</td>\n",
       "      <td>2002, South Korea &amp; Japan; 2022, Qatar</td>\n",
       "      <td>2034, Saudi Arabia</td>\n",
       "    </tr>\n",
       "    <tr>\n",
       "      <th>4</th>\n",
       "      <td>CAF (Africa)</td>\n",
       "      <td>1</td>\n",
       "      <td>2010, South Africa</td>\n",
       "      <td>2030, Morocco</td>\n",
       "    </tr>\n",
       "  </tbody>\n",
       "</table>\n",
       "</div>"
      ],
      "text/plain": [
       "                                       Confederation  Times hosted  \\\n",
       "0                                      UEFA (Europe)            11   \n",
       "1                           CONMEBOL (South America)             5   \n",
       "2  CONCACAF (North and Central America and Caribb...             3   \n",
       "3                                         AFC (Asia)             2   \n",
       "4                                       CAF (Africa)             1   \n",
       "\n",
       "                                               Hosts  \\\n",
       "0  1934, Italy; 1938, France, 1954, Switzerland; ...   \n",
       "1  1930, Uruguay; 1950, Brazil; 1962, Chile; 1978...   \n",
       "2    1970, Mexico; 1986, Mexico; 1994, United States   \n",
       "3             2002, South Korea & Japan; 2022, Qatar   \n",
       "4                                 2010, South Africa   \n",
       "\n",
       "                         Upcoming hosts  \n",
       "0                2030, Spain & Portugal  \n",
       "1                                   NaN  \n",
       "2  2026, Canada, Mexico & United States  \n",
       "3                    2034, Saudi Arabia  \n",
       "4                         2030, Morocco  "
      ]
     },
     "metadata": {},
     "output_type": "display_data"
    }
   ],
   "source": [
    "for i in range(min(3, len(tables))):\n",
    "    print(f\"\\n[테이블 {i}]\")\n",
    "    display(tables[i].head())"
   ]
  },
  {
   "cell_type": "code",
   "execution_count": 5,
   "id": "452ee4d4",
   "metadata": {},
   "outputs": [
    {
     "data": {
      "text/html": [
       "<div>\n",
       "<style scoped>\n",
       "    .dataframe tbody tr th:only-of-type {\n",
       "        vertical-align: middle;\n",
       "    }\n",
       "\n",
       "    .dataframe tbody tr th {\n",
       "        vertical-align: top;\n",
       "    }\n",
       "\n",
       "    .dataframe thead th {\n",
       "        text-align: right;\n",
       "    }\n",
       "</style>\n",
       "<table border=\"1\" class=\"dataframe\">\n",
       "  <thead>\n",
       "    <tr style=\"text-align: right;\">\n",
       "      <th></th>\n",
       "      <th>0</th>\n",
       "    </tr>\n",
       "  </thead>\n",
       "  <tbody>\n",
       "    <tr>\n",
       "      <th>0</th>\n",
       "      <td>Argentina, the current champions</td>\n",
       "    </tr>\n",
       "    <tr>\n",
       "      <th>1</th>\n",
       "      <td>Tournaments</td>\n",
       "    </tr>\n",
       "    <tr>\n",
       "      <th>2</th>\n",
       "      <td>1930 1934 1938 1950 1954 1958 1962 1966 1970 1...</td>\n",
       "    </tr>\n",
       "  </tbody>\n",
       "</table>\n",
       "</div>"
      ],
      "text/plain": [
       "                                                   0\n",
       "0                   Argentina, the current champions\n",
       "1                                        Tournaments\n",
       "2  1930 1934 1938 1950 1954 1958 1962 1966 1970 1..."
      ]
     },
     "execution_count": 5,
     "metadata": {},
     "output_type": "execute_result"
    }
   ],
   "source": [
    "df = tables[1]\n",
    "df.head()"
   ]
  }
 ],
 "metadata": {
  "kernelspec": {
   "display_name": "Python 3 (ipykernel)",
   "language": "python",
   "name": "python3"
  },
  "language_info": {
   "codemirror_mode": {
    "name": "ipython",
    "version": 3
   },
   "file_extension": ".py",
   "mimetype": "text/x-python",
   "name": "python",
   "nbconvert_exporter": "python",
   "pygments_lexer": "ipython3",
   "version": "3.12.4"
  }
 },
 "nbformat": 4,
 "nbformat_minor": 5
}
